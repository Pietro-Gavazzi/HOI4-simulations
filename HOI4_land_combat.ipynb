{
 "cells": [
  {
   "cell_type": "code",
   "execution_count": 1,
   "id": "09e7740b",
   "metadata": {},
   "outputs": [],
   "source": [
    "# sies who helped greatly:\n",
    "# https://taw.github.io/hoi4/ \n",
    "# https://www.youtube.com/watch?v=fbBjywJmcEM "
   ]
  },
  {
   "cell_type": "code",
   "execution_count": 2,
   "id": "644524d2",
   "metadata": {},
   "outputs": [
    {
     "ename": "TypeError",
     "evalue": "__init__() missing 1 required positional argument: 'terrain'",
     "output_type": "error",
     "traceback": [
      "\u001b[1;31m---------------------------------------------------------------------------\u001b[0m",
      "\u001b[1;31mTypeError\u001b[0m                                 Traceback (most recent call last)",
      "Cell \u001b[1;32mIn [2], line 19\u001b[0m\n\u001b[0;32m     17\u001b[0m division_1\u001b[38;5;241m.\u001b[39mget_piercing()\n\u001b[0;32m     18\u001b[0m \u001b[38;5;66;03m# Combat scenario\u001b[39;00m\n\u001b[1;32m---> 19\u001b[0m battle \u001b[38;5;241m=\u001b[39m CombatScenario(division_2, division_1)\n\u001b[0;32m     20\u001b[0m result \u001b[38;5;241m=\u001b[39m battle\u001b[38;5;241m.\u001b[39msimulate_combat()\n\u001b[0;32m     21\u001b[0m \u001b[38;5;28mprint\u001b[39m(result)\n",
      "\u001b[1;31mTypeError\u001b[0m: __init__() missing 1 required positional argument: 'terrain'"
     ]
    }
   ],
   "source": [
    "# Let's start by building a basic Python notebook structure that simulates HOI4-style combat.\n",
    "# This will include:\n",
    "# - Division templates with stats\n",
    "# - Terrain effects\n",
    "# - Directional penalties\n",
    "# - A simple combat loop using some heuristics\n",
    " \n",
    "from battalions import *\n",
    "from divisions import *\n",
    "from land_combat import *\n",
    "\n",
    "# Division examples\n",
    "division_1 = Division(\"Infantry Division\", [inf]*10 + [art]*0)\n",
    "division_2 = Division(\"Tank Division\", [light_tank]*1 + [inf]*0)\n",
    "\n",
    "division_1.get_armour()\n",
    "division_1.get_piercing()\n",
    "# Combat scenario\n",
    "battle = CombatScenario(division_2, division_1)\n",
    "result = battle.simulate_combat()\n",
    "print(result)\n"
   ]
  }
 ],
 "metadata": {
  "kernelspec": {
   "display_name": "Python 3",
   "language": "python",
   "name": "python3"
  },
  "language_info": {
   "codemirror_mode": {
    "name": "ipython",
    "version": 3
   },
   "file_extension": ".py",
   "mimetype": "text/x-python",
   "name": "python",
   "nbconvert_exporter": "python",
   "pygments_lexer": "ipython3",
   "version": "3.8.10"
  }
 },
 "nbformat": 4,
 "nbformat_minor": 5
}
