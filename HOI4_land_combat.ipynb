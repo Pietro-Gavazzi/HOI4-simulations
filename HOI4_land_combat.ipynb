{
 "cells": [
  {
   "cell_type": "code",
   "execution_count": 1,
   "id": "09e7740b",
   "metadata": {},
   "outputs": [],
   "source": [
    "# sies who helped greatly:\n",
    "# https://taw.github.io/hoi4/ \n",
    "# https://www.youtube.com/watch?v=fbBjywJmcEM "
   ]
  },
  {
   "cell_type": "code",
   "execution_count": null,
   "id": "644524d2",
   "metadata": {},
   "outputs": [
    {
     "name": "stdout",
     "output_type": "stream",
     "text": [
      "Defender wins\n"
     ]
    }
   ],
   "source": [
    "# Let's start by building a basic Python notebook structure that simulates HOI4-style combat.\n",
    "# This will include:\n",
    "# - Division templates with stats\n",
    "# - Terrain effects\n",
    "# - Directional penalties\n",
    "# - A simple combat loop using some heuristics\n",
    " \n",
    "from battalions import *\n",
    "from divisions import *\n",
    "from land_combat import *\n",
    "\n",
    "# Division examples\n",
    "division_1 = Division(\"Infantry Division\", [inf]*10 + [art]*0)\n",
    "division_2 = Division(\"Tank Division\", [light_tank]*1 + [inf]*0)\n",
    "\n",
    "division_1.get_armour()\n",
    "division_1.get_piercing()\n",
    "# Combat scenario\n",
    "battle = CombatScenario(division_2, division_1)\n",
    "result = battle.simulate_combat()\n",
    "print(result)\n"
   ]
  }
 ],
 "metadata": {
  "kernelspec": {
   "display_name": "Python 3",
   "language": "python",
   "name": "python3"
  },
  "language_info": {
   "codemirror_mode": {
    "name": "ipython",
    "version": 3
   },
   "file_extension": ".py",
   "mimetype": "text/x-python",
   "name": "python",
   "nbconvert_exporter": "python",
   "pygments_lexer": "ipython3",
   "version": "3.8.10"
  }
 },
 "nbformat": 4,
 "nbformat_minor": 5
}
